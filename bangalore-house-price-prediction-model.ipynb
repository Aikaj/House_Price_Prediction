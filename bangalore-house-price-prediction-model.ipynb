{
 "cells": [
  {
   "cell_type": "markdown",
   "id": "309ace52",
   "metadata": {
    "papermill": {
     "duration": 0.075399,
     "end_time": "2021-07-30T16:14:25.070716",
     "exception": false,
     "start_time": "2021-07-30T16:14:24.995317",
     "status": "completed"
    },
    "tags": []
   },
   "source": [
    "# BANGALORE HOUSE PRICE PREDICTION MODEL"
   ]
  },
  {
   "cell_type": "markdown",
   "id": "06111908",
   "metadata": {
    "papermill": {
     "duration": 0.072761,
     "end_time": "2021-07-30T16:14:25.216323",
     "exception": false,
     "start_time": "2021-07-30T16:14:25.143562",
     "status": "completed"
    },
    "tags": []
   },
   "source": [
    "### Data Link: https://www.kaggle.com/amitabhajoy/bengaluru-house-price-data"
   ]
  },
  {
   "cell_type": "markdown",
   "id": "15587987",
   "metadata": {
    "papermill": {
     "duration": 0.074604,
     "end_time": "2021-07-30T16:14:25.363904",
     "exception": false,
     "start_time": "2021-07-30T16:14:25.289300",
     "status": "completed"
    },
    "tags": []
   },
   "source": [
    "### IMPORT LIBRARIES"
   ]
  },
  {
   "cell_type": "code",
   "execution_count": null,
   "id": "a59714a2",
   "metadata": {
    "papermill": {
     "duration": 0.090175,
     "end_time": "2021-07-30T16:14:25.526701",
     "exception": false,
     "start_time": "2021-07-30T16:14:25.436526",
     "status": "completed"
    },
    "tags": []
   },
   "outputs": [],
   "source": [
    "import pandas as pd\n",
    "import numpy as np\n",
    "from matplotlib import pyplot as plt\n",
    "%matplotlib inline\n",
    "import matplotlib \n",
    "matplotlib.rcParams[\"figure.figsize\"] = (20,10)"
   ]
  },
  {
   "cell_type": "markdown",
   "id": "69eb397b",
   "metadata": {
    "papermill": {
     "duration": 0.072459,
     "end_time": "2021-07-30T16:14:25.672436",
     "exception": false,
     "start_time": "2021-07-30T16:14:25.599977",
     "status": "completed"
    },
    "tags": []
   },
   "source": [
    "### LOAD DATASET"
   ]
  },
  {
   "cell_type": "code",
   "execution_count": null,
   "id": "36bc1dbe",
   "metadata": {
    "papermill": {
     "duration": 0.252507,
     "end_time": "2021-07-30T16:14:26.000375",
     "exception": false,
     "start_time": "2021-07-30T16:14:25.747868",
     "status": "completed"
    },
    "scrolled": true,
    "tags": []
   },
   "outputs": [],
   "source": [
    "df1 = pd.read_csv(\"Bengaluru_House_Data.csv\")\n",
    "df1.head()"
   ]
  },
  {
   "cell_type": "markdown",
   "id": "055c89b0",
   "metadata": {
    "papermill": {
     "duration": 0.073959,
     "end_time": "2021-07-30T16:14:26.148962",
     "exception": false,
     "start_time": "2021-07-30T16:14:26.075003",
     "status": "completed"
    },
    "tags": []
   },
   "source": [
    "### EXPLORATORY DATA ANALYSIS"
   ]
  },
  {
   "cell_type": "code",
   "execution_count": null,
   "id": "e7b7bfa4",
   "metadata": {
    "papermill": {
     "duration": 0.084216,
     "end_time": "2021-07-30T16:14:26.307000",
     "exception": false,
     "start_time": "2021-07-30T16:14:26.222784",
     "status": "completed"
    },
    "tags": []
   },
   "outputs": [],
   "source": [
    "df1.shape"
   ]
  },
  {
   "cell_type": "code",
   "execution_count": null,
   "id": "d04730ec",
   "metadata": {
    "papermill": {
     "duration": 0.086048,
     "end_time": "2021-07-30T16:14:26.467108",
     "exception": false,
     "start_time": "2021-07-30T16:14:26.381060",
     "status": "completed"
    },
    "tags": []
   },
   "outputs": [],
   "source": [
    "df1.columns"
   ]
  },
  {
   "cell_type": "code",
   "execution_count": null,
   "id": "0e51b002",
   "metadata": {
    "papermill": {
     "duration": 0.088982,
     "end_time": "2021-07-30T16:14:26.629797",
     "exception": false,
     "start_time": "2021-07-30T16:14:26.540815",
     "status": "completed"
    },
    "tags": []
   },
   "outputs": [],
   "source": [
    "df1['area_type'].unique()"
   ]
  },
  {
   "cell_type": "code",
   "execution_count": null,
   "id": "36fc921c",
   "metadata": {
    "papermill": {
     "duration": 0.09354,
     "end_time": "2021-07-30T16:14:26.805487",
     "exception": false,
     "start_time": "2021-07-30T16:14:26.711947",
     "status": "completed"
    },
    "tags": []
   },
   "outputs": [],
   "source": [
    "df1['area_type'].value_counts()"
   ]
  },
  {
   "cell_type": "markdown",
   "id": "7c598e3e",
   "metadata": {
    "papermill": {
     "duration": 0.076636,
     "end_time": "2021-07-30T16:14:26.958524",
     "exception": false,
     "start_time": "2021-07-30T16:14:26.881888",
     "status": "completed"
    },
    "tags": []
   },
   "source": [
    "**NOTE:** DROP UNNECESSARY FEATURES"
   ]
  },
  {
   "cell_type": "code",
   "execution_count": null,
   "id": "c4ab12f4",
   "metadata": {
    "papermill": {
     "duration": 0.086878,
     "end_time": "2021-07-30T16:14:27.122686",
     "exception": false,
     "start_time": "2021-07-30T16:14:27.035808",
     "status": "completed"
    },
    "tags": []
   },
   "outputs": [],
   "source": [
    "df2 = df1.drop(['area_type','society','balcony','availability'],axis='columns')\n",
    "df2.shape"
   ]
  },
  {
   "cell_type": "markdown",
   "id": "e0feb7b5",
   "metadata": {
    "papermill": {
     "duration": 0.075662,
     "end_time": "2021-07-30T16:14:27.273210",
     "exception": false,
     "start_time": "2021-07-30T16:14:27.197548",
     "status": "completed"
    },
    "tags": []
   },
   "source": [
    "### DATA CLEANING"
   ]
  },
  {
   "cell_type": "code",
   "execution_count": null,
   "id": "fd28a2d0",
   "metadata": {
    "papermill": {
     "duration": 0.093621,
     "end_time": "2021-07-30T16:14:27.445030",
     "exception": false,
     "start_time": "2021-07-30T16:14:27.351409",
     "status": "completed"
    },
    "tags": []
   },
   "outputs": [],
   "source": [
    "df2.isnull().sum()"
   ]
  },
  {
   "cell_type": "code",
   "execution_count": null,
   "id": "9e583895",
   "metadata": {
    "papermill": {
     "duration": 0.082492,
     "end_time": "2021-07-30T16:14:27.601669",
     "exception": false,
     "start_time": "2021-07-30T16:14:27.519177",
     "status": "completed"
    },
    "tags": []
   },
   "outputs": [],
   "source": [
    "df2.shape"
   ]
  },
  {
   "cell_type": "code",
   "execution_count": null,
   "id": "181cf7b2",
   "metadata": {
    "papermill": {
     "duration": 0.121936,
     "end_time": "2021-07-30T16:14:27.797013",
     "exception": false,
     "start_time": "2021-07-30T16:14:27.675077",
     "status": "completed"
    },
    "tags": []
   },
   "outputs": [],
   "source": [
    "df3 = df2.dropna()\n",
    "df3.isnull().sum()"
   ]
  },
  {
   "cell_type": "code",
   "execution_count": null,
   "id": "cf4606e7",
   "metadata": {
    "papermill": {
     "duration": 0.083152,
     "end_time": "2021-07-30T16:14:27.955509",
     "exception": false,
     "start_time": "2021-07-30T16:14:27.872357",
     "status": "completed"
    },
    "tags": []
   },
   "outputs": [],
   "source": [
    "df3.shape"
   ]
  },
  {
   "cell_type": "markdown",
   "id": "24264508",
   "metadata": {
    "papermill": {
     "duration": 0.073757,
     "end_time": "2021-07-30T16:14:28.104259",
     "exception": false,
     "start_time": "2021-07-30T16:14:28.030502",
     "status": "completed"
    },
    "tags": []
   },
   "source": [
    "### FEATURE ENGINEERING"
   ]
  },
  {
   "cell_type": "code",
   "execution_count": null,
   "id": "f97c9022",
   "metadata": {
    "papermill": {
     "duration": 0.103113,
     "end_time": "2021-07-30T16:14:28.281424",
     "exception": false,
     "start_time": "2021-07-30T16:14:28.178311",
     "status": "completed"
    },
    "tags": []
   },
   "outputs": [],
   "source": [
    "df3['bhk'] = df3['size'].apply(lambda x: int(x.split(' ')[0]))\n",
    "df3.bhk.unique()"
   ]
  },
  {
   "cell_type": "markdown",
   "id": "9a5701dc",
   "metadata": {
    "papermill": {
     "duration": 0.076372,
     "end_time": "2021-07-30T16:14:28.434921",
     "exception": false,
     "start_time": "2021-07-30T16:14:28.358549",
     "status": "completed"
    },
    "tags": []
   },
   "source": [
    "**EXPLORE TOTAL SQFT FEATURE**"
   ]
  },
  {
   "cell_type": "code",
   "execution_count": null,
   "id": "a1fb79b1",
   "metadata": {
    "papermill": {
     "duration": 0.084526,
     "end_time": "2021-07-30T16:14:28.597329",
     "exception": false,
     "start_time": "2021-07-30T16:14:28.512803",
     "status": "completed"
    },
    "tags": []
   },
   "outputs": [],
   "source": [
    "def is_float(x):\n",
    "    try:\n",
    "        float(x)\n",
    "    except:\n",
    "        return False\n",
    "    return True"
   ]
  },
  {
   "cell_type": "code",
   "execution_count": null,
   "id": "7895aea6",
   "metadata": {
    "papermill": {
     "duration": 0.083864,
     "end_time": "2021-07-30T16:14:28.755805",
     "exception": false,
     "start_time": "2021-07-30T16:14:28.671941",
     "status": "completed"
    },
    "tags": []
   },
   "outputs": [],
   "source": [
    "2+3"
   ]
  },
  {
   "cell_type": "code",
   "execution_count": null,
   "id": "217801d9",
   "metadata": {
    "papermill": {
     "duration": 0.10259,
     "end_time": "2021-07-30T16:14:28.934375",
     "exception": false,
     "start_time": "2021-07-30T16:14:28.831785",
     "status": "completed"
    },
    "scrolled": true,
    "tags": []
   },
   "outputs": [],
   "source": [
    "df3[~df3['total_sqft'].apply(is_float)].head(10)"
   ]
  },
  {
   "cell_type": "markdown",
   "id": "0f068419",
   "metadata": {
    "papermill": {
     "duration": 0.074554,
     "end_time": "2021-07-30T16:14:29.084537",
     "exception": false,
     "start_time": "2021-07-30T16:14:29.009983",
     "status": "completed"
    },
    "tags": []
   },
   "source": [
    "**ABOVE DATA SHOWS THAT TOTAL SQFT CAN BE A RANGE (E.G. 2100-2850). FOR SUCH CASES WE CAN JUST TAKE AVERAGE OF MIN & MAX VALUE IN THE RANGE. THERE ARE OTHER CASES WHERE VALUES ARE IN SQM WHICH CAN BE CONVERTED TO SQFT USING UNIT CONVERSION.**"
   ]
  },
  {
   "cell_type": "code",
   "execution_count": null,
   "id": "d0b483c9",
   "metadata": {
    "papermill": {
     "duration": 0.084413,
     "end_time": "2021-07-30T16:14:29.244066",
     "exception": false,
     "start_time": "2021-07-30T16:14:29.159653",
     "status": "completed"
    },
    "tags": []
   },
   "outputs": [],
   "source": [
    "def convert_sqft_to_num(x):\n",
    "    tokens = x.split('-')\n",
    "    if len(tokens) == 2:\n",
    "        return (float(tokens[0])+float(tokens[1]))/2\n",
    "    try:\n",
    "        return float(x)\n",
    "    except:\n",
    "        return None   "
   ]
  },
  {
   "cell_type": "code",
   "execution_count": null,
   "id": "579c20a9",
   "metadata": {
    "papermill": {
     "duration": 0.111835,
     "end_time": "2021-07-30T16:14:29.431848",
     "exception": false,
     "start_time": "2021-07-30T16:14:29.320013",
     "status": "completed"
    },
    "tags": []
   },
   "outputs": [],
   "source": [
    "df4 = df3.copy()\n",
    "df4.total_sqft = df4.total_sqft.apply(convert_sqft_to_num)\n",
    "df4 = df4[df4.total_sqft.notnull()]\n",
    "df4.head(2)"
   ]
  },
  {
   "cell_type": "markdown",
   "id": "3c2756e2",
   "metadata": {
    "papermill": {
     "duration": 0.076172,
     "end_time": "2021-07-30T16:14:29.584563",
     "exception": false,
     "start_time": "2021-07-30T16:14:29.508391",
     "status": "completed"
    },
    "tags": []
   },
   "source": [
    "**FOR ROW BELOW, IT SHOWS TOTAL SQFT AS 2475 WHICH IS AN AVERAGE OF THE RANGE 2100-2850**"
   ]
  },
  {
   "cell_type": "code",
   "execution_count": null,
   "id": "03b05c68",
   "metadata": {
    "papermill": {
     "duration": 0.087687,
     "end_time": "2021-07-30T16:14:29.748249",
     "exception": false,
     "start_time": "2021-07-30T16:14:29.660562",
     "status": "completed"
    },
    "scrolled": true,
    "tags": []
   },
   "outputs": [],
   "source": [
    "df4.loc[30]"
   ]
  },
  {
   "cell_type": "code",
   "execution_count": null,
   "id": "cf55e780",
   "metadata": {
    "papermill": {
     "duration": 0.08718,
     "end_time": "2021-07-30T16:14:29.911668",
     "exception": false,
     "start_time": "2021-07-30T16:14:29.824488",
     "status": "completed"
    },
    "tags": []
   },
   "outputs": [],
   "source": [
    "(2100+2850)/2"
   ]
  },
  {
   "cell_type": "markdown",
   "id": "162ca5fb",
   "metadata": {
    "papermill": {
     "duration": 0.076783,
     "end_time": "2021-07-30T16:14:30.065525",
     "exception": false,
     "start_time": "2021-07-30T16:14:29.988742",
     "status": "completed"
    },
    "tags": []
   },
   "source": [
    "**ADD NEW FEATURE CALLED PRICE PER SQUARE FEET**"
   ]
  },
  {
   "cell_type": "code",
   "execution_count": null,
   "id": "a816415b",
   "metadata": {
    "papermill": {
     "duration": 0.099699,
     "end_time": "2021-07-30T16:14:30.242656",
     "exception": false,
     "start_time": "2021-07-30T16:14:30.142957",
     "status": "completed"
    },
    "tags": []
   },
   "outputs": [],
   "source": [
    "df5 = df4.copy()\n",
    "df5['price_per_sqft'] = df5['price']*100000/df5['total_sqft']\n",
    "df5.head()"
   ]
  },
  {
   "cell_type": "code",
   "execution_count": null,
   "id": "9f4fd62f",
   "metadata": {
    "papermill": {
     "duration": 0.09634,
     "end_time": "2021-07-30T16:14:30.416982",
     "exception": false,
     "start_time": "2021-07-30T16:14:30.320642",
     "status": "completed"
    },
    "scrolled": true,
    "tags": []
   },
   "outputs": [],
   "source": [
    "df5_stats = df5['price_per_sqft'].describe()\n",
    "df5_stats"
   ]
  },
  {
   "cell_type": "code",
   "execution_count": null,
   "id": "8104c1b4",
   "metadata": {
    "papermill": {
     "duration": 0.186214,
     "end_time": "2021-07-30T16:14:30.680638",
     "exception": false,
     "start_time": "2021-07-30T16:14:30.494424",
     "status": "completed"
    },
    "tags": []
   },
   "outputs": [],
   "source": [
    "df5.to_csv(\"bhp.csv\",index=False)"
   ]
  },
  {
   "cell_type": "markdown",
   "id": "8111d398",
   "metadata": {
    "papermill": {
     "duration": 0.077219,
     "end_time": "2021-07-30T16:14:30.835304",
     "exception": false,
     "start_time": "2021-07-30T16:14:30.758085",
     "status": "completed"
    },
    "tags": []
   },
   "source": [
    "**EXAMINE LOCATIONS WHICH IS A CATEGORICAL VARIABLE. WE NEED TO APPLY THE DIMENSIONALITY REDUCTION TECHNIQUE HERE TO REDUCE THE NUMBER OF LOCATIONS**"
   ]
  },
  {
   "cell_type": "code",
   "execution_count": null,
   "id": "44020b18",
   "metadata": {
    "papermill": {
     "duration": 0.102669,
     "end_time": "2021-07-30T16:14:31.016770",
     "exception": false,
     "start_time": "2021-07-30T16:14:30.914101",
     "status": "completed"
    },
    "tags": []
   },
   "outputs": [],
   "source": [
    "df5.location = df5.location.apply(lambda x: x.strip())\n",
    "location_stats = df5['location'].value_counts(ascending=False)\n",
    "location_stats"
   ]
  },
  {
   "cell_type": "code",
   "execution_count": null,
   "id": "2d90371c",
   "metadata": {
    "papermill": {
     "duration": 0.087351,
     "end_time": "2021-07-30T16:14:31.182256",
     "exception": false,
     "start_time": "2021-07-30T16:14:31.094905",
     "status": "completed"
    },
    "tags": []
   },
   "outputs": [],
   "source": [
    "location_stats.values.sum()"
   ]
  },
  {
   "cell_type": "code",
   "execution_count": null,
   "id": "3dccc379",
   "metadata": {
    "papermill": {
     "duration": 0.087784,
     "end_time": "2021-07-30T16:14:31.348451",
     "exception": false,
     "start_time": "2021-07-30T16:14:31.260667",
     "status": "completed"
    },
    "scrolled": true,
    "tags": []
   },
   "outputs": [],
   "source": [
    "len(location_stats[location_stats>10])"
   ]
  },
  {
   "cell_type": "code",
   "execution_count": null,
   "id": "8e2ca85b",
   "metadata": {
    "papermill": {
     "duration": 0.086924,
     "end_time": "2021-07-30T16:14:31.513535",
     "exception": false,
     "start_time": "2021-07-30T16:14:31.426611",
     "status": "completed"
    },
    "tags": []
   },
   "outputs": [],
   "source": [
    "len(location_stats)"
   ]
  },
  {
   "cell_type": "code",
   "execution_count": null,
   "id": "74032c1e",
   "metadata": {
    "papermill": {
     "duration": 0.089589,
     "end_time": "2021-07-30T16:14:31.682196",
     "exception": false,
     "start_time": "2021-07-30T16:14:31.592607",
     "status": "completed"
    },
    "tags": []
   },
   "outputs": [],
   "source": [
    "len(location_stats[location_stats<=10])"
   ]
  },
  {
   "cell_type": "markdown",
   "id": "010fb61e",
   "metadata": {
    "papermill": {
     "duration": 0.079081,
     "end_time": "2021-07-30T16:14:31.840353",
     "exception": false,
     "start_time": "2021-07-30T16:14:31.761272",
     "status": "completed"
    },
    "tags": []
   },
   "source": [
    "### DIMENSIONALITY REDUCTIONS"
   ]
  },
  {
   "cell_type": "markdown",
   "id": "6108ac6a",
   "metadata": {
    "papermill": {
     "duration": 0.0816,
     "end_time": "2021-07-30T16:14:32.002036",
     "exception": false,
     "start_time": "2021-07-30T16:14:31.920436",
     "status": "completed"
    },
    "tags": []
   },
   "source": [
    "**ANY LOCATION HAVING LESS THAN 10 DATA PINTS SHOULD BE TAGGED AS \"OTHER\" LOCATION. THIS WAY NUMBER OF CATEGORIES CAN BE REDUCED BY HUGE AMOUNT. LATER ON WHEN WE DO ONE HOT ENCODING, IT WILL HELP US WITH HAVING FEWER DUMMY COLUMNS.**"
   ]
  },
  {
   "cell_type": "code",
   "execution_count": null,
   "id": "40a4f59e",
   "metadata": {
    "papermill": {
     "duration": 0.091832,
     "end_time": "2021-07-30T16:14:32.173731",
     "exception": false,
     "start_time": "2021-07-30T16:14:32.081899",
     "status": "completed"
    },
    "tags": []
   },
   "outputs": [],
   "source": [
    "location_stats_less_than_10 = location_stats[location_stats<=10]\n",
    "location_stats_less_than_10"
   ]
  },
  {
   "cell_type": "code",
   "execution_count": null,
   "id": "21f4f747",
   "metadata": {
    "papermill": {
     "duration": 0.145289,
     "end_time": "2021-07-30T16:14:32.399255",
     "exception": false,
     "start_time": "2021-07-30T16:14:32.253966",
     "status": "completed"
    },
    "tags": []
   },
   "outputs": [],
   "source": [
    "len(df5.location.unique())"
   ]
  },
  {
   "cell_type": "code",
   "execution_count": null,
   "id": "a2da00f5",
   "metadata": {
    "papermill": {
     "duration": 0.115723,
     "end_time": "2021-07-30T16:14:32.596057",
     "exception": false,
     "start_time": "2021-07-30T16:14:32.480334",
     "status": "completed"
    },
    "tags": []
   },
   "outputs": [],
   "source": [
    "df5.location = df5.location.apply(lambda x: 'other' if x in location_stats_less_than_10 else x)\n",
    "len(df5.location.unique())"
   ]
  },
  {
   "cell_type": "code",
   "execution_count": null,
   "id": "10df7ba2",
   "metadata": {
    "papermill": {
     "duration": 0.101879,
     "end_time": "2021-07-30T16:14:32.778494",
     "exception": false,
     "start_time": "2021-07-30T16:14:32.676615",
     "status": "completed"
    },
    "scrolled": true,
    "tags": []
   },
   "outputs": [],
   "source": [
    "df5.head(10)"
   ]
  },
  {
   "cell_type": "markdown",
   "id": "2e0e3501",
   "metadata": {
    "papermill": {
     "duration": 0.08072,
     "end_time": "2021-07-30T16:14:32.940699",
     "exception": false,
     "start_time": "2021-07-30T16:14:32.859979",
     "status": "completed"
    },
    "tags": []
   },
   "source": [
    "### OUTLIER REMOVAL USING BUSINESS LOGIC"
   ]
  },
  {
   "cell_type": "markdown",
   "id": "ca7569f7",
   "metadata": {
    "papermill": {
     "duration": 0.082062,
     "end_time": "2021-07-30T16:14:33.103947",
     "exception": false,
     "start_time": "2021-07-30T16:14:33.021885",
     "status": "completed"
    },
    "tags": []
   },
   "source": [
    "**AS A DATA SCIENTIST S A DATA SCIENTIST WHEN YOU HAVE A CONVERSATION WITH YOUR BUSINESS MANAGER (WHO HAS EXPERTISE IN REAL ESTATE), HE WILL TELL YOU THAT NORMALLY SQUARE FT PER BEDROOM IS 300 (I.E. 2 BHK APARTMENT IS MINIMUM 600 SQFT. IF YOU HAVE FOR EXAMPLE 400 SQFT APARTMENT WITH 2 BHK THAN THAT SEEMS SUSPICIOUS AND CAN BE REMOVED AS AN OUTLIER. WE WILL REMOVE SUCH OUTLIERS BY KEEPING OUR MINIMUM THRESOLD PER BHK TO BE 300 SQFT**"
   ]
  },
  {
   "cell_type": "code",
   "execution_count": null,
   "id": "98c77b7a",
   "metadata": {
    "papermill": {
     "duration": 0.104629,
     "end_time": "2021-07-30T16:14:33.289536",
     "exception": false,
     "start_time": "2021-07-30T16:14:33.184907",
     "status": "completed"
    },
    "scrolled": true,
    "tags": []
   },
   "outputs": [],
   "source": [
    "df5[df5.total_sqft/df5.bhk<300].head()"
   ]
  },
  {
   "cell_type": "markdown",
   "id": "949b949f",
   "metadata": {
    "papermill": {
     "duration": 0.081543,
     "end_time": "2021-07-30T16:14:33.452902",
     "exception": false,
     "start_time": "2021-07-30T16:14:33.371359",
     "status": "completed"
    },
    "tags": []
   },
   "source": [
    "**CHECK THE ABOVE DATA POINTS. WE HAVE 6 BHK APARTMENTS WITH 1020 SQFT. ANOTHER ONE IS 8 BHK AND THE TOTAL SQFT IS 600. THESE ARE CLEAR DATA ERRORS THAT CAN BE REMOVED SAFELY**"
   ]
  },
  {
   "cell_type": "code",
   "execution_count": null,
   "id": "998e2f70",
   "metadata": {
    "papermill": {
     "duration": 0.091191,
     "end_time": "2021-07-30T16:14:33.625492",
     "exception": false,
     "start_time": "2021-07-30T16:14:33.534301",
     "status": "completed"
    },
    "tags": []
   },
   "outputs": [],
   "source": [
    "df5.shape"
   ]
  },
  {
   "cell_type": "code",
   "execution_count": null,
   "id": "a1ece3f8",
   "metadata": {
    "papermill": {
     "duration": 0.097761,
     "end_time": "2021-07-30T16:14:33.807219",
     "exception": false,
     "start_time": "2021-07-30T16:14:33.709458",
     "status": "completed"
    },
    "scrolled": true,
    "tags": []
   },
   "outputs": [],
   "source": [
    "df6 = df5[~(df5.total_sqft/df5.bhk<300)]\n",
    "df6.shape"
   ]
  },
  {
   "cell_type": "markdown",
   "id": "0aae13ab",
   "metadata": {
    "papermill": {
     "duration": 0.08229,
     "end_time": "2021-07-30T16:14:33.973226",
     "exception": false,
     "start_time": "2021-07-30T16:14:33.890936",
     "status": "completed"
    },
    "tags": []
   },
   "source": [
    "### OUTLIER REMOVAL USING STANDARD DEVIATION AND MEAN"
   ]
  },
  {
   "cell_type": "code",
   "execution_count": null,
   "id": "598c5ccb",
   "metadata": {
    "papermill": {
     "duration": 0.098831,
     "end_time": "2021-07-30T16:14:34.154273",
     "exception": false,
     "start_time": "2021-07-30T16:14:34.055442",
     "status": "completed"
    },
    "tags": []
   },
   "outputs": [],
   "source": [
    "df6.price_per_sqft.describe()"
   ]
  },
  {
   "cell_type": "markdown",
   "id": "0e0730d4",
   "metadata": {
    "papermill": {
     "duration": 0.083595,
     "end_time": "2021-07-30T16:14:34.321735",
     "exception": false,
     "start_time": "2021-07-30T16:14:34.238140",
     "status": "completed"
    },
    "tags": []
   },
   "source": [
    "**HERE WE FIND THAT MIN PRICE PER SQFT IS 267 RS/SQFT WHEREAS MAX IS 12000000, THIS SHOWS A WIDE VARIATION IN PROPERTY PRICES. WE SHOULD REMOVE OUTLIERS PER LOCATION USING MEAN AND ONE STANDARD DEVIATION**"
   ]
  },
  {
   "cell_type": "code",
   "execution_count": null,
   "id": "46006c6e",
   "metadata": {
    "papermill": {
     "duration": 0.816651,
     "end_time": "2021-07-30T16:14:35.220914",
     "exception": false,
     "start_time": "2021-07-30T16:14:34.404263",
     "status": "completed"
    },
    "tags": []
   },
   "outputs": [],
   "source": [
    "def remove_pps_outliers(df):\n",
    "    df_out = pd.DataFrame()\n",
    "    for key, subdf in df.groupby('location'):\n",
    "        m = np.mean(subdf.price_per_sqft)\n",
    "        st = np.std(subdf.price_per_sqft)\n",
    "        reduced_df = subdf[(subdf.price_per_sqft>(m-st)) & (subdf.price_per_sqft<=(m+st))]\n",
    "        df_out = pd.concat([df_out,reduced_df],ignore_index=True)\n",
    "    return df_out\n",
    "df7 = remove_pps_outliers(df6)\n",
    "df7.shape"
   ]
  },
  {
   "cell_type": "markdown",
   "id": "64571be5",
   "metadata": {
    "papermill": {
     "duration": 0.109,
     "end_time": "2021-07-30T16:14:35.412924",
     "exception": false,
     "start_time": "2021-07-30T16:14:35.303924",
     "status": "completed"
    },
    "tags": []
   },
   "source": [
    "**LET'S CHECK IF FOR A GIVEN LOCATION HOW DOES THE 2 BHK AND 3 BHK PROPERTY PRICES LOOK LIKE**"
   ]
  },
  {
   "cell_type": "code",
   "execution_count": null,
   "id": "94c4823a",
   "metadata": {
    "papermill": {
     "duration": 0.403134,
     "end_time": "2021-07-30T16:14:35.901564",
     "exception": false,
     "start_time": "2021-07-30T16:14:35.498430",
     "status": "completed"
    },
    "tags": []
   },
   "outputs": [],
   "source": [
    "def plot_scatter_chart(df,location):\n",
    "    bhk2 = df[(df.location==location) & (df.bhk==2)]\n",
    "    bhk3 = df[(df.location==location) & (df.bhk==3)]\n",
    "    matplotlib.rcParams['figure.figsize'] = (15,10)\n",
    "    plt.scatter(bhk2.total_sqft,bhk2.price,color='blue',label='2 BHK', s=50)\n",
    "    plt.scatter(bhk3.total_sqft,bhk3.price,marker='+', color='green',label='3 BHK', s=50)\n",
    "    plt.xlabel(\"Total Square Feet Area\")\n",
    "    plt.ylabel(\"Price (Lakh Indian Rupees)\")\n",
    "    plt.title(location)\n",
    "    plt.legend()\n",
    "    \n",
    "plot_scatter_chart(df7,\"Rajaji Nagar\")"
   ]
  },
  {
   "cell_type": "code",
   "execution_count": null,
   "id": "29e535a3",
   "metadata": {
    "papermill": {
     "duration": 0.340565,
     "end_time": "2021-07-30T16:14:36.328187",
     "exception": false,
     "start_time": "2021-07-30T16:14:35.987622",
     "status": "completed"
    },
    "tags": []
   },
   "outputs": [],
   "source": [
    "plot_scatter_chart(df7,\"Hebbal\")"
   ]
  },
  {
   "cell_type": "markdown",
   "id": "f8d07ef1",
   "metadata": {
    "papermill": {
     "duration": 0.08748,
     "end_time": "2021-07-30T16:14:36.502823",
     "exception": false,
     "start_time": "2021-07-30T16:14:36.415343",
     "status": "completed"
    },
    "tags": []
   },
   "source": [
    "**WE SHOULD ALSO REMOVE PROPERTIES WHERE FOR THE SAME LOCATION, THE PRICE OF (FOR EXAMPLE) A 3 BEDROOM APARTMENT IS LESS THAN A 2 BEDROOM APARTMENT (WITH THE SAME SQUARE FT AREA). WHAT WE WILL DO IS FOR A GIVEN LOCATION, WE WILL BUILD A DICTIONARY OF STATS PER BHK, I.E.**\n",
    "```\n",
    "{\n",
    "    '1' : {\n",
    "        'mean': 4000,\n",
    "        'std: 2000,\n",
    "        'count': 34\n",
    "    },\n",
    "    '2' : {\n",
    "        'mean': 4300,\n",
    "        'std: 2300,\n",
    "        'count': 22\n",
    "    },    \n",
    "}\n",
    "```\n",
    "**NOW WE CAN REMOVE THOSE 2 BHK APARTMENTS WHOSE PRICE_PER_SQFT IS LESS THAN THE MEAN PRICE_PER_SQFT OF 1 BHK APARTMENT**"
   ]
  },
  {
   "cell_type": "code",
   "execution_count": null,
   "id": "aa0c9fa1",
   "metadata": {
    "papermill": {
     "duration": 0.923406,
     "end_time": "2021-07-30T16:14:37.512767",
     "exception": false,
     "start_time": "2021-07-30T16:14:36.589361",
     "status": "completed"
    },
    "tags": []
   },
   "outputs": [],
   "source": [
    "def remove_bhk_outliers(df):\n",
    "    exclude_indices = np.array([])\n",
    "    for location, location_df in df.groupby('location'):\n",
    "        bhk_stats = {}\n",
    "        for bhk, bhk_df in location_df.groupby('bhk'):\n",
    "            bhk_stats[bhk] = {\n",
    "                'mean': np.mean(bhk_df.price_per_sqft),\n",
    "                'std': np.std(bhk_df.price_per_sqft),\n",
    "                'count': bhk_df.shape[0]\n",
    "            }\n",
    "        for bhk, bhk_df in location_df.groupby('bhk'):\n",
    "            stats = bhk_stats.get(bhk-1)\n",
    "            if stats and stats['count']>5:\n",
    "                exclude_indices = np.append(exclude_indices, bhk_df[bhk_df.price_per_sqft<(stats['mean'])].index.values)\n",
    "    return df.drop(exclude_indices,axis='index')\n",
    "df8 = remove_bhk_outliers(df7)\n",
    "# df8 = df7.copy()\n",
    "df8.shape"
   ]
  },
  {
   "cell_type": "markdown",
   "id": "f33ac0df",
   "metadata": {
    "papermill": {
     "duration": 0.085836,
     "end_time": "2021-07-30T16:14:37.684635",
     "exception": false,
     "start_time": "2021-07-30T16:14:37.598799",
     "status": "completed"
    },
    "tags": []
   },
   "source": [
    "**PLOT SAME SCATTER CHART AGAIN TO VISUALIZE PRICE_PER_SQFT FOR 2 BHK AND 3 BHK PROPERTIES**"
   ]
  },
  {
   "cell_type": "code",
   "execution_count": null,
   "id": "5fdca181",
   "metadata": {
    "papermill": {
     "duration": 0.358057,
     "end_time": "2021-07-30T16:14:38.128738",
     "exception": false,
     "start_time": "2021-07-30T16:14:37.770681",
     "status": "completed"
    },
    "tags": []
   },
   "outputs": [],
   "source": [
    "plot_scatter_chart(df8,\"Rajaji Nagar\")"
   ]
  },
  {
   "cell_type": "code",
   "execution_count": null,
   "id": "20f72206",
   "metadata": {
    "papermill": {
     "duration": 0.348903,
     "end_time": "2021-07-30T16:14:38.564410",
     "exception": false,
     "start_time": "2021-07-30T16:14:38.215507",
     "status": "completed"
    },
    "scrolled": true,
    "tags": []
   },
   "outputs": [],
   "source": [
    "plot_scatter_chart(df8,\"Hebbal\")"
   ]
  },
  {
   "cell_type": "markdown",
   "id": "ec7f5ccf",
   "metadata": {
    "papermill": {
     "duration": 0.086859,
     "end_time": "2021-07-30T16:14:38.738332",
     "exception": false,
     "start_time": "2021-07-30T16:14:38.651473",
     "status": "completed"
    },
    "tags": []
   },
   "source": [
    "**BASED ON ABOVE CHARTS WE CAN SEE THAT DATA POINTS HIGHLIGHTED IN RED BELOW ARE OUTLIERS AND THEY ARE BEING REMOVED DUE TO REMOVE_BHK_OUTLIERS FUNCTION**"
   ]
  },
  {
   "cell_type": "markdown",
   "id": "9ec125cd",
   "metadata": {
    "papermill": {
     "duration": 0.087802,
     "end_time": "2021-07-30T16:14:38.913855",
     "exception": false,
     "start_time": "2021-07-30T16:14:38.826053",
     "status": "completed"
    },
    "tags": []
   },
   "source": [
    "### BEFORE AND AFTER OUTLIER REMOVAL: RAJAJI NAGAR"
   ]
  },
  {
   "cell_type": "markdown",
   "id": "2b87294a",
   "metadata": {
    "papermill": {
     "duration": 0.086752,
     "end_time": "2021-07-30T16:14:39.088706",
     "exception": false,
     "start_time": "2021-07-30T16:14:39.001954",
     "status": "completed"
    },
    "tags": []
   },
   "source": [
    "<img src=\"rajaji_nagar_outliers.png\"></img>"
   ]
  },
  {
   "cell_type": "markdown",
   "id": "2c7eb8a6",
   "metadata": {
    "papermill": {
     "duration": 0.086787,
     "end_time": "2021-07-30T16:14:39.262557",
     "exception": false,
     "start_time": "2021-07-30T16:14:39.175770",
     "status": "completed"
    },
    "tags": []
   },
   "source": [
    "### BEFORE AND AFTER OUTLIER REMOVAL: HEBBAL"
   ]
  },
  {
   "cell_type": "markdown",
   "id": "b3783936",
   "metadata": {
    "papermill": {
     "duration": 0.087163,
     "end_time": "2021-07-30T16:14:39.436758",
     "exception": false,
     "start_time": "2021-07-30T16:14:39.349595",
     "status": "completed"
    },
    "tags": []
   },
   "source": [
    "<img src=\"hebbal_outliers.png\"></img>"
   ]
  },
  {
   "cell_type": "code",
   "execution_count": null,
   "id": "449881ee",
   "metadata": {
    "papermill": {
     "duration": 0.300558,
     "end_time": "2021-07-30T16:14:39.824383",
     "exception": false,
     "start_time": "2021-07-30T16:14:39.523825",
     "status": "completed"
    },
    "tags": []
   },
   "outputs": [],
   "source": [
    "import matplotlib\n",
    "matplotlib.rcParams[\"figure.figsize\"] = (20,10)\n",
    "plt.hist(df8.price_per_sqft,rwidth=0.8)\n",
    "plt.xlabel(\"Price Per Square Feet\")\n",
    "plt.ylabel(\"Count\")"
   ]
  },
  {
   "cell_type": "markdown",
   "id": "8b38eb25",
   "metadata": {
    "papermill": {
     "duration": 0.088398,
     "end_time": "2021-07-30T16:14:40.002283",
     "exception": false,
     "start_time": "2021-07-30T16:14:39.913885",
     "status": "completed"
    },
    "tags": []
   },
   "source": [
    "### OUTLIER REMOVAL USING BATHROOMS FEATURE"
   ]
  },
  {
   "cell_type": "code",
   "execution_count": null,
   "id": "c7a9cae0",
   "metadata": {
    "papermill": {
     "duration": 0.097699,
     "end_time": "2021-07-30T16:14:40.189733",
     "exception": false,
     "start_time": "2021-07-30T16:14:40.092034",
     "status": "completed"
    },
    "tags": []
   },
   "outputs": [],
   "source": [
    "df8.bath.unique()"
   ]
  },
  {
   "cell_type": "code",
   "execution_count": null,
   "id": "651be3be",
   "metadata": {
    "papermill": {
     "duration": 0.316532,
     "end_time": "2021-07-30T16:14:40.594332",
     "exception": false,
     "start_time": "2021-07-30T16:14:40.277800",
     "status": "completed"
    },
    "tags": []
   },
   "outputs": [],
   "source": [
    "plt.hist(df8.bath,rwidth=0.8)\n",
    "plt.xlabel(\"Number of bathrooms\")\n",
    "plt.ylabel(\"Count\")"
   ]
  },
  {
   "cell_type": "code",
   "execution_count": null,
   "id": "39ecd7da",
   "metadata": {
    "papermill": {
     "duration": 0.133595,
     "end_time": "2021-07-30T16:14:40.840360",
     "exception": false,
     "start_time": "2021-07-30T16:14:40.706765",
     "status": "completed"
    },
    "tags": []
   },
   "outputs": [],
   "source": [
    "df8[df8.bath>10]"
   ]
  },
  {
   "cell_type": "markdown",
   "id": "7f8cc0e5",
   "metadata": {
    "papermill": {
     "duration": 0.092978,
     "end_time": "2021-07-30T16:14:41.041517",
     "exception": false,
     "start_time": "2021-07-30T16:14:40.948539",
     "status": "completed"
    },
    "tags": []
   },
   "source": [
    "**IT IS UNUSUAL TO HAVE 2 MORE BATHROOMS THAN NUMBER OF BEDROOMS IN A HOME**"
   ]
  },
  {
   "cell_type": "code",
   "execution_count": null,
   "id": "b348cf1b",
   "metadata": {
    "papermill": {
     "duration": 0.111991,
     "end_time": "2021-07-30T16:14:41.246163",
     "exception": false,
     "start_time": "2021-07-30T16:14:41.134172",
     "status": "completed"
    },
    "tags": []
   },
   "outputs": [],
   "source": [
    "df8[df8.bath>df8.bhk+2]"
   ]
  },
  {
   "cell_type": "markdown",
   "id": "c27aeac3",
   "metadata": {
    "papermill": {
     "duration": 0.089809,
     "end_time": "2021-07-30T16:14:41.430324",
     "exception": false,
     "start_time": "2021-07-30T16:14:41.340515",
     "status": "completed"
    },
    "tags": []
   },
   "source": [
    "**AGAIN THE BUSINESS MANAGER HAS A CONVERSATION WITH YOU (I.E. A DATA SCIENTIST) THAT IF YOU HAVE A 4 BEDROOM HOME AND EVEN IF YOU HAVE A BATHROOM IN ALL 4 ROOMS PLUS ONE GUEST BATHROOM, YOU WILL HAVE A TOTAL BATH = TOTAL BED + 1 MAX. ANYTHING ABOVE THAT IS AN OUTLIER OR A DATA ERROR AND CAN BE REMOVED**"
   ]
  },
  {
   "cell_type": "code",
   "execution_count": null,
   "id": "26de428e",
   "metadata": {
    "papermill": {
     "duration": 0.102754,
     "end_time": "2021-07-30T16:14:41.623463",
     "exception": false,
     "start_time": "2021-07-30T16:14:41.520709",
     "status": "completed"
    },
    "tags": []
   },
   "outputs": [],
   "source": [
    "df9 = df8[df8.bath<df8.bhk+2]\n",
    "df9.shape"
   ]
  },
  {
   "cell_type": "code",
   "execution_count": null,
   "id": "218a944c",
   "metadata": {
    "papermill": {
     "duration": 0.111029,
     "end_time": "2021-07-30T16:14:41.826242",
     "exception": false,
     "start_time": "2021-07-30T16:14:41.715213",
     "status": "completed"
    },
    "tags": []
   },
   "outputs": [],
   "source": [
    "df9.head(2)"
   ]
  },
  {
   "cell_type": "code",
   "execution_count": null,
   "id": "b6409b2a",
   "metadata": {
    "papermill": {
     "duration": 0.110889,
     "end_time": "2021-07-30T16:14:42.031741",
     "exception": false,
     "start_time": "2021-07-30T16:14:41.920852",
     "status": "completed"
    },
    "scrolled": true,
    "tags": []
   },
   "outputs": [],
   "source": [
    "df10 = df9.drop(['size','price_per_sqft'],axis='columns')\n",
    "df10.head(3)"
   ]
  },
  {
   "cell_type": "markdown",
   "id": "50cc58f1",
   "metadata": {
    "papermill": {
     "duration": 0.091509,
     "end_time": "2021-07-30T16:14:42.216770",
     "exception": false,
     "start_time": "2021-07-30T16:14:42.125261",
     "status": "completed"
    },
    "tags": []
   },
   "source": [
    "### USE ONE HOT ENCODING FOR LOCATION"
   ]
  },
  {
   "cell_type": "code",
   "execution_count": null,
   "id": "36065128",
   "metadata": {
    "papermill": {
     "duration": 0.120823,
     "end_time": "2021-07-30T16:14:42.431316",
     "exception": false,
     "start_time": "2021-07-30T16:14:42.310493",
     "status": "completed"
    },
    "tags": []
   },
   "outputs": [],
   "source": [
    "dummies = pd.get_dummies(df10.location)\n",
    "dummies.head(3)"
   ]
  },
  {
   "cell_type": "code",
   "execution_count": null,
   "id": "f9685adb",
   "metadata": {
    "papermill": {
     "duration": 0.134954,
     "end_time": "2021-07-30T16:14:42.658681",
     "exception": false,
     "start_time": "2021-07-30T16:14:42.523727",
     "status": "completed"
    },
    "tags": []
   },
   "outputs": [],
   "source": [
    "df11 = pd.concat([df10,dummies.drop('other',axis='columns')],axis='columns')\n",
    "df11.head()"
   ]
  },
  {
   "cell_type": "code",
   "execution_count": null,
   "id": "60188e0b",
   "metadata": {
    "papermill": {
     "duration": 0.121654,
     "end_time": "2021-07-30T16:14:42.874157",
     "exception": false,
     "start_time": "2021-07-30T16:14:42.752503",
     "status": "completed"
    },
    "tags": []
   },
   "outputs": [],
   "source": [
    "df12 = df11.drop('location',axis='columns')\n",
    "df12.head(2)"
   ]
  },
  {
   "cell_type": "markdown",
   "id": "e6a1f67a",
   "metadata": {
    "papermill": {
     "duration": 0.094048,
     "end_time": "2021-07-30T16:14:43.063127",
     "exception": false,
     "start_time": "2021-07-30T16:14:42.969079",
     "status": "completed"
    },
    "tags": []
   },
   "source": [
    "### BUILDING A MODEL"
   ]
  },
  {
   "cell_type": "code",
   "execution_count": null,
   "id": "3265c421",
   "metadata": {
    "papermill": {
     "duration": 0.104332,
     "end_time": "2021-07-30T16:14:43.262277",
     "exception": false,
     "start_time": "2021-07-30T16:14:43.157945",
     "status": "completed"
    },
    "tags": []
   },
   "outputs": [],
   "source": [
    "df12.shape"
   ]
  },
  {
   "cell_type": "code",
   "execution_count": null,
   "id": "3fedfc0f",
   "metadata": {
    "papermill": {
     "duration": 0.123911,
     "end_time": "2021-07-30T16:14:43.480752",
     "exception": false,
     "start_time": "2021-07-30T16:14:43.356841",
     "status": "completed"
    },
    "scrolled": true,
    "tags": []
   },
   "outputs": [],
   "source": [
    "X = df12.drop(['price'],axis='columns')\n",
    "X.head(3)"
   ]
  },
  {
   "cell_type": "code",
   "execution_count": null,
   "id": "3478efaf",
   "metadata": {
    "papermill": {
     "duration": 0.105873,
     "end_time": "2021-07-30T16:14:43.681872",
     "exception": false,
     "start_time": "2021-07-30T16:14:43.575999",
     "status": "completed"
    },
    "tags": []
   },
   "outputs": [],
   "source": [
    "X.shape"
   ]
  },
  {
   "cell_type": "code",
   "execution_count": null,
   "id": "efc81282",
   "metadata": {
    "papermill": {
     "duration": 0.109355,
     "end_time": "2021-07-30T16:14:43.887161",
     "exception": false,
     "start_time": "2021-07-30T16:14:43.777806",
     "status": "completed"
    },
    "scrolled": true,
    "tags": []
   },
   "outputs": [],
   "source": [
    "y = df12.price\n",
    "y.head(3)"
   ]
  },
  {
   "cell_type": "code",
   "execution_count": null,
   "id": "d13dd161",
   "metadata": {
    "papermill": {
     "duration": 0.104674,
     "end_time": "2021-07-30T16:14:44.088787",
     "exception": false,
     "start_time": "2021-07-30T16:14:43.984113",
     "status": "completed"
    },
    "tags": []
   },
   "outputs": [],
   "source": [
    "len(y)"
   ]
  },
  {
   "cell_type": "code",
   "execution_count": null,
   "id": "1158c45b",
   "metadata": {
    "papermill": {
     "duration": 1.211597,
     "end_time": "2021-07-30T16:14:45.397485",
     "exception": false,
     "start_time": "2021-07-30T16:14:44.185888",
     "status": "completed"
    },
    "tags": []
   },
   "outputs": [],
   "source": [
    "from sklearn.model_selection import train_test_split\n",
    "X_train, X_test, y_train, y_test = train_test_split(X,y,test_size=0.2,random_state=10)"
   ]
  },
  {
   "cell_type": "code",
   "execution_count": null,
   "id": "c26d4838",
   "metadata": {
    "papermill": {
     "duration": 0.622414,
     "end_time": "2021-07-30T16:14:46.116177",
     "exception": false,
     "start_time": "2021-07-30T16:14:45.493763",
     "status": "completed"
    },
    "tags": []
   },
   "outputs": [],
   "source": [
    "from sklearn.linear_model import LinearRegression\n",
    "lr_clf = LinearRegression()\n",
    "lr_clf.fit(X_train,y_train)\n",
    "lr_clf.score(X_test,y_test)"
   ]
  },
  {
   "cell_type": "markdown",
   "id": "49f1b184",
   "metadata": {
    "papermill": {
     "duration": 0.112165,
     "end_time": "2021-07-30T16:14:46.370731",
     "exception": false,
     "start_time": "2021-07-30T16:14:46.258566",
     "status": "completed"
    },
    "tags": []
   },
   "source": [
    "### USE K FOLD CROSS VALIDATION TO MEASURE ACCURACY OF OUR LINEAR REGRESSION MODEL"
   ]
  },
  {
   "cell_type": "code",
   "execution_count": null,
   "id": "4af4e05b",
   "metadata": {
    "papermill": {
     "duration": 0.791726,
     "end_time": "2021-07-30T16:14:47.273127",
     "exception": false,
     "start_time": "2021-07-30T16:14:46.481401",
     "status": "completed"
    },
    "tags": []
   },
   "outputs": [],
   "source": [
    "from sklearn.model_selection import ShuffleSplit\n",
    "from sklearn.model_selection import cross_val_score\n",
    "\n",
    "cv = ShuffleSplit(n_splits=5, test_size=0.2, random_state=0)\n",
    "\n",
    "cross_val_score(LinearRegression(), X, y, cv=cv)"
   ]
  },
  {
   "cell_type": "markdown",
   "id": "6be2495a",
   "metadata": {
    "papermill": {
     "duration": 0.09607,
     "end_time": "2021-07-30T16:14:47.513206",
     "exception": false,
     "start_time": "2021-07-30T16:14:47.417136",
     "status": "completed"
    },
    "tags": []
   },
   "source": [
    "**WE CAN SEE THAT IN 5 ITERATIONS WE GET A SCORE ABOVE 80% ALL THE TIME. THIS IS PRETTY GOOD BUT WE WANT TO TEST FEW OTHER ALGORITHMS FOR REGRESSION TO SEE IF WE CAN GET AN EVEN BETTER SCORE. WE WILL USE GRIDSEARCHCV FOR THIS PURPOSE**"
   ]
  },
  {
   "cell_type": "markdown",
   "id": "c69b70ea",
   "metadata": {
    "papermill": {
     "duration": 0.096094,
     "end_time": "2021-07-30T16:14:47.706907",
     "exception": false,
     "start_time": "2021-07-30T16:14:47.610813",
     "status": "completed"
    },
    "tags": []
   },
   "source": [
    "### FIND BEST MODEL USING GRIDSEARCHCV"
   ]
  },
  {
   "cell_type": "code",
   "execution_count": null,
   "id": "9369e6e7",
   "metadata": {
    "papermill": {
     "duration": 6.997262,
     "end_time": "2021-07-30T16:14:54.804089",
     "exception": false,
     "start_time": "2021-07-30T16:14:47.806827",
     "status": "completed"
    },
    "tags": []
   },
   "outputs": [],
   "source": [
    "from sklearn.model_selection import GridSearchCV\n",
    "\n",
    "from sklearn.linear_model import Lasso\n",
    "from sklearn.tree import DecisionTreeRegressor\n",
    "\n",
    "def find_best_model_using_gridsearchcv(X,y):\n",
    "    algos = {\n",
    "        'linear_regression' : {\n",
    "            'model': LinearRegression(),\n",
    "            'params': {\n",
    "                'normalize': [True, False]\n",
    "            }\n",
    "        },\n",
    "        'lasso': {\n",
    "            'model': Lasso(),\n",
    "            'params': {\n",
    "                'alpha': [1,2],\n",
    "                'selection': ['random', 'cyclic']\n",
    "            }\n",
    "        },\n",
    "        'decision_tree': {\n",
    "            'model': DecisionTreeRegressor(),\n",
    "            'params': {\n",
    "                'criterion' : ['mse','friedman_mse'],\n",
    "                'splitter': ['best','random']\n",
    "            }\n",
    "        }\n",
    "    }\n",
    "    scores = []\n",
    "    cv = ShuffleSplit(n_splits=5, test_size=0.2, random_state=0)\n",
    "    for algo_name, config in algos.items():\n",
    "        gs =  GridSearchCV(config['model'], config['params'], cv=cv, return_train_score=False)\n",
    "        gs.fit(X,y)\n",
    "        scores.append({\n",
    "            'model': algo_name,\n",
    "            'best_score': gs.best_score_,\n",
    "            'best_params': gs.best_params_\n",
    "        })\n",
    "\n",
    "    return pd.DataFrame(scores,columns=['model','best_score','best_params'])\n",
    "\n",
    "find_best_model_using_gridsearchcv(X,y)"
   ]
  },
  {
   "cell_type": "markdown",
   "id": "ad1ab485",
   "metadata": {
    "papermill": {
     "duration": 0.099266,
     "end_time": "2021-07-30T16:14:55.003284",
     "exception": false,
     "start_time": "2021-07-30T16:14:54.904018",
     "status": "completed"
    },
    "tags": []
   },
   "source": [
    "**BASED ON THE ABOVE RESULTS WE CAN SAY THAT LINEAR REGRESSION GIVES THE BEST SCORE. HENCE WE WILL USE THAT.**"
   ]
  },
  {
   "cell_type": "markdown",
   "id": "f973b46d",
   "metadata": {
    "papermill": {
     "duration": 0.09724,
     "end_time": "2021-07-30T16:14:55.200130",
     "exception": false,
     "start_time": "2021-07-30T16:14:55.102890",
     "status": "completed"
    },
    "tags": []
   },
   "source": [
    "### TEST THE MODEL FOR FEW PROPERTIES"
   ]
  },
  {
   "cell_type": "code",
   "execution_count": null,
   "id": "b87f0cd9",
   "metadata": {
    "papermill": {
     "duration": 0.107678,
     "end_time": "2021-07-30T16:14:55.404746",
     "exception": false,
     "start_time": "2021-07-30T16:14:55.297068",
     "status": "completed"
    },
    "tags": []
   },
   "outputs": [],
   "source": [
    "def predict_price(location,sqft,bath,bhk):    \n",
    "    loc_index = np.where(X.columns==location)[0][0]\n",
    "\n",
    "    x = np.zeros(len(X.columns))\n",
    "    x[0] = sqft\n",
    "    x[1] = bath\n",
    "    x[2] = bhk\n",
    "    if loc_index >= 0:\n",
    "        x[loc_index] = 1\n",
    "\n",
    "    return lr_clf.predict([x])[0]"
   ]
  },
  {
   "cell_type": "code",
   "execution_count": null,
   "id": "12a5c4c1",
   "metadata": {
    "papermill": {
     "duration": 0.106277,
     "end_time": "2021-07-30T16:14:55.608533",
     "exception": false,
     "start_time": "2021-07-30T16:14:55.502256",
     "status": "completed"
    },
    "tags": []
   },
   "outputs": [],
   "source": [
    "predict_price('1st Phase JP Nagar',1000, 2, 2)"
   ]
  },
  {
   "cell_type": "code",
   "execution_count": null,
   "id": "0f78f456",
   "metadata": {
    "papermill": {
     "duration": 0.107086,
     "end_time": "2021-07-30T16:14:55.813076",
     "exception": false,
     "start_time": "2021-07-30T16:14:55.705990",
     "status": "completed"
    },
    "tags": []
   },
   "outputs": [],
   "source": [
    "predict_price('1st Phase JP Nagar',1000, 3, 3)"
   ]
  },
  {
   "cell_type": "code",
   "execution_count": null,
   "id": "ff5abca1",
   "metadata": {
    "papermill": {
     "duration": 0.112324,
     "end_time": "2021-07-30T16:14:56.027516",
     "exception": false,
     "start_time": "2021-07-30T16:14:55.915192",
     "status": "completed"
    },
    "tags": []
   },
   "outputs": [],
   "source": [
    "predict_price('Indira Nagar',1000, 2, 2)"
   ]
  },
  {
   "cell_type": "code",
   "execution_count": null,
   "id": "1f3dbc47",
   "metadata": {
    "papermill": {
     "duration": 0.108128,
     "end_time": "2021-07-30T16:14:56.233636",
     "exception": false,
     "start_time": "2021-07-30T16:14:56.125508",
     "status": "completed"
    },
    "scrolled": true,
    "tags": []
   },
   "outputs": [],
   "source": [
    "predict_price('Indira Nagar',1000, 3, 3)"
   ]
  },
  {
   "cell_type": "markdown",
   "id": "35a3d282",
   "metadata": {
    "papermill": {
     "duration": 0.098357,
     "end_time": "2021-07-30T16:14:56.431378",
     "exception": false,
     "start_time": "2021-07-30T16:14:56.333021",
     "status": "completed"
    },
    "tags": []
   },
   "source": [
    "### EXPORT THE TESTED MODEL TO A PICKLE FILE"
   ]
  },
  {
   "cell_type": "code",
   "execution_count": null,
   "id": "d0ebb742",
   "metadata": {
    "papermill": {
     "duration": 0.106586,
     "end_time": "2021-07-30T16:14:56.636618",
     "exception": false,
     "start_time": "2021-07-30T16:14:56.530032",
     "status": "completed"
    },
    "tags": []
   },
   "outputs": [],
   "source": [
    "import pickle\n",
    "with open('banglore_home_prices_model.pickle','wb') as f:\n",
    "    pickle.dump(lr_clf,f)"
   ]
  },
  {
   "cell_type": "markdown",
   "id": "b0c76190",
   "metadata": {
    "papermill": {
     "duration": 0.099529,
     "end_time": "2021-07-30T16:14:56.835183",
     "exception": false,
     "start_time": "2021-07-30T16:14:56.735654",
     "status": "completed"
    },
    "tags": []
   },
   "source": [
    "### EXPORT LOCATION AND COLUMN INFORMATION TO A FILE THAT WILL BE USEFUL LATER ON IN OUR PREDICTION APPLICATION"
   ]
  },
  {
   "cell_type": "code",
   "execution_count": null,
   "id": "ef1d5731",
   "metadata": {
    "papermill": {
     "duration": 0.109599,
     "end_time": "2021-07-30T16:14:57.044947",
     "exception": false,
     "start_time": "2021-07-30T16:14:56.935348",
     "status": "completed"
    },
    "tags": []
   },
   "outputs": [],
   "source": [
    "import json\n",
    "columns = {\n",
    "    'data_columns' : [col.lower() for col in X.columns]\n",
    "}\n",
    "with open(\"columns.json\",\"w\") as f:\n",
    "    f.write(json.dumps(columns))"
   ]
  },
  {
   "cell_type": "code",
   "execution_count": 2,
   "id": "8f186240-e465-47bf-a32a-88d2873e0862",
   "metadata": {},
   "outputs": [
    {
     "name": "stdout",
     "output_type": "stream",
     "text": [
      " * Serving Flask app '__main__'\n",
      " * Debug mode: on\n"
     ]
    },
    {
     "name": "stderr",
     "output_type": "stream",
     "text": [
      "WARNING: This is a development server. Do not use it in a production deployment. Use a production WSGI server instead.\n",
      " * Running on http://127.0.0.1:5001\n",
      "Press CTRL+C to quit\n",
      " * Restarting with watchdog (windowsapi)\n"
     ]
    },
    {
     "ename": "SystemExit",
     "evalue": "1",
     "output_type": "error",
     "traceback": [
      "An exception has occurred, use %tb to see the full traceback.\n",
      "\u001b[1;31mSystemExit\u001b[0m\u001b[1;31m:\u001b[0m 1\n"
     ]
    }
   ],
   "source": [
    "from flask import Flask, render_isutemplate, request ,url_for\n",
    "import pickle\n",
    "import numpy as np\n",
    "import json\n",
    "\n",
    "\n",
    "app = Flask(__name__)\n",
    "\n",
    "__locations = None\n",
    "__data_columns = None\n",
    "model = pickle.load(open('banglore_home_prices_model.pickle','rb'))\n",
    "\n",
    "f = open('columns.json')\n",
    "__data_columns = json.loads(f.read())['data_columns']\n",
    "__locations = __data_columns[3:]\n",
    "\n",
    "def get_estimated_price(input_json):\n",
    "    try:\n",
    "        loc_index = __data_columns.index(input_json['location'].lower())\n",
    "    except:\n",
    "        loc_index = -1\n",
    "    x = np.zeros(len(__data_columns))\n",
    "    x[0] = input_json['sqft']\n",
    "    x[1] = input_json['bath']\n",
    "    x[2] = input_json['bhk']\n",
    "    if loc_index >= 0:\n",
    "        x[loc_index] = 1\n",
    "    result = round(model.predict([x])[0],2)\n",
    "    return result\n",
    "\n",
    "    \n",
    "@app.route('/')\n",
    "\n",
    "def index():\n",
    "    return render_template('index.html', locations=__locations)\n",
    "\n",
    "@app.route('/predict',methods=['POST'])\n",
    "def predict():\n",
    "\n",
    "    if request.method == 'POST':\n",
    "        input_json = {\n",
    "            \"location\": request.form['sLocation'],\n",
    "            \"sqft\": request.form['Squareft'],\n",
    "            \"bhk\": request.form['uiBHK'],\n",
    "            \"bath\": request.form['uiBathrooms']\n",
    "        }\n",
    "        result = get_estimated_price(input_json)\n",
    "\n",
    "        if result > 100:\n",
    "            result = round(result/100, 2)\n",
    "            result = str(result) + ' Crore'\n",
    "        else:\n",
    "            result = str(result) + ' Lakhs'\n",
    "\n",
    "    return render_template('predict.html',result=result)\n",
    "\n",
    "\n",
    "if __name__=='__main__':\n",
    "    app.run(debug=True,port=5000)"
   ]
  },
  {
   "cell_type": "code",
   "execution_count": null,
   "id": "fc91a2da-56cc-4dab-9fa5-9e79d68ee088",
   "metadata": {},
   "outputs": [],
   "source": []
  }
 ],
 "metadata": {
  "kernelspec": {
   "display_name": "Python 3 (ipykernel)",
   "language": "python",
   "name": "python3"
  },
  "language_info": {
   "codemirror_mode": {
    "name": "ipython",
    "version": 3
   },
   "file_extension": ".py",
   "mimetype": "text/x-python",
   "name": "python",
   "nbconvert_exporter": "python",
   "pygments_lexer": "ipython3",
   "version": "3.11.7"
  },
  "papermill": {
   "default_parameters": {},
   "duration": 43.145995,
   "end_time": "2021-07-30T16:14:58.949762",
   "environment_variables": {},
   "exception": null,
   "input_path": "__notebook__.ipynb",
   "output_path": "__notebook__.ipynb",
   "parameters": {},
   "start_time": "2021-07-30T16:14:15.803767",
   "version": "2.3.3"
  }
 },
 "nbformat": 4,
 "nbformat_minor": 5
}
